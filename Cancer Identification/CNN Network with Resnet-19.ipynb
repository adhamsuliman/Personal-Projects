{
 "cells": [
  {
   "cell_type": "code",
   "execution_count": 1,
   "metadata": {
    "_cell_guid": "b1076dfc-b9ad-4769-8c92-a6c4dae69d19",
    "_uuid": "8f2839f25d086af736a60e9eeb907d3b93b6e0e5"
   },
   "outputs": [
    {
     "name": "stderr",
     "output_type": "stream",
     "text": [
      "Using TensorFlow backend.\n"
     ]
    }
   ],
   "source": [
    "import numpy as np # linear algebra\n",
    "import pandas as pd # data processing, CSV file I/O (e.g. pd.read_csv)\n",
    "import keras\n",
    "from keras.preprocessing.image import ImageDataGenerator\n",
    "from keras.applications.vgg19 import VGG19\n",
    "from keras.models import Model, Sequential\n",
    "from keras.layers import GlobalAveragePooling2D, Dense, Dropout, Flatten, BatchNormalization\n",
    "from sklearn.model_selection import train_test_split\n",
    "import os\n",
    "from tqdm import tqdm\n",
    "from sklearn import preprocessing\n",
    "from sklearn.model_selection import train_test_split\n",
    "import cv2"
   ]
  },
  {
   "cell_type": "code",
   "execution_count": 2,
   "metadata": {
    "_uuid": "c7e4e0981ead6e97a08f77e75e856982e53129b6"
   },
   "outputs": [
    {
     "name": "stdout",
     "output_type": "stream",
     "text": [
      "Cancer image data set count: 220025\n"
     ]
    }
   ],
   "source": [
    "cancer_labs = pd.read_csv('../input/histopathologic-cancer-detection/train_labels.csv', dtype=str)\n",
    "\n",
    "def append_ext(fn):\n",
    "    return fn+\".tif\"\n",
    "\n",
    "cancer_labs[\"id\"]=cancer_labs[\"id\"].apply(append_ext)\n",
    "\n",
    "print(\"Cancer image data set count:\", cancer_labs.shape[0])"
   ]
  },
  {
   "cell_type": "code",
   "execution_count": 3,
   "metadata": {
    "_uuid": "9c63c900a54276ade0fd0a9ff8b47764371db3d2"
   },
   "outputs": [
    {
     "name": "stdout",
     "output_type": "stream",
     "text": [
      "Positive cancer scans: 89117\n",
      "Positive cancer scans percent: 41.0\n",
      "Negative cancer scans: 130908\n",
      "Negative cancer scans percent: 59.0\n"
     ]
    }
   ],
   "source": [
    "class_count = cancer_labs[\"label\"].value_counts()\n",
    "\n",
    "print(\"Positive cancer scans:\", class_count[1])\n",
    "print(\"Positive cancer scans percent:\", round(class_count[1] / cancer_labs.shape[0], 2) * 100)\n",
    "print(\"Negative cancer scans:\", class_count[0])\n",
    "print(\"Negative cancer scans percent:\", round(class_count[0] / cancer_labs.shape[0], 2) * 100)"
   ]
  },
  {
   "cell_type": "code",
   "execution_count": 4,
   "metadata": {
    "_uuid": "0fd07c835a3ffd90c5f919ce842228ecd8496ce9",
    "scrolled": true
   },
   "outputs": [
    {
     "name": "stdout",
     "output_type": "stream",
     "text": [
      "Cancer image training set rows: 176020\n",
      "Cancer image test set rows: 44005\n"
     ]
    }
   ],
   "source": [
    "train, test = train_test_split(cancer_labs, test_size=0.2, random_state=1017)\n",
    "\n",
    "print(\"Cancer image training set rows:\", train.shape[0])\n",
    "print(\"Cancer image test set rows:\", test.shape[0])"
   ]
  },
  {
   "cell_type": "code",
   "execution_count": 5,
   "metadata": {
    "_cell_guid": "79c7e3d0-c299-4dcb-8224-4455121ee9b0",
    "_uuid": "d629ff2d2480ee46fbb7e2d37f6b5fab8052498a"
   },
   "outputs": [
    {
     "name": "stdout",
     "output_type": "stream",
     "text": [
      "Found 176020 images belonging to 2 classes.\n",
      "Found 44005 images belonging to 2 classes.\n"
     ]
    }
   ],
   "source": [
    "batch_size = 128\n",
    "\n",
    "image_size = (96, 96)\n",
    "\n",
    "train_datagen = ImageDataGenerator(\n",
    "        rescale=1./255,\n",
    "        shear_range=0.2,\n",
    "        zoom_range=0.2,\n",
    "        horizontal_flip=True\n",
    ")\n",
    "\n",
    "test_datagen = ImageDataGenerator(rescale=1./255)\n",
    "\n",
    "train_generator = train_datagen.flow_from_dataframe(\n",
    "    dataframe=train, \n",
    "    directory='../input/histopathologic-cancer-detection/train/', \n",
    "    x_col='id', \n",
    "    y_col='label',\n",
    "    target_size=image_size,\n",
    "    batch_size=batch_size,\n",
    "    class_mode=\"binary\",\n",
    "    has_ext=False\n",
    ")\n",
    "\n",
    "test_generator = test_datagen.flow_from_dataframe(\n",
    "    dataframe=test, \n",
    "    directory='../input/histopathologic-cancer-detection/train/', \n",
    "    x_col='id', \n",
    "    y_col='label',\n",
    "    target_size=image_size,\n",
    "    batch_size=batch_size,\n",
    "    class_mode=\"binary\",\n",
    "    has_ext=False\n",
    ")"
   ]
  },
  {
   "cell_type": "code",
   "execution_count": 6,
   "metadata": {
    "_uuid": "9bf1733b916392c6419264826ec4f7c7f78eb2a3"
   },
   "outputs": [],
   "source": [
    "weights_path = '../input/vgg19/vgg19_weights_tf_dim_ordering_tf_kernels_notop.h5'\n",
    "base_model  = VGG19(include_top=False, weights= weights_path,input_shape=(96, 96, 3))\n",
    "\n",
    "x = base_model.output\n",
    "x = Flatten()(x)\n",
    "x = Dense(256, activation='relu', kernel_initializer='glorot_uniform', use_bias=False)(x)\n",
    "x = BatchNormalization()(x)\n",
    "x = Dropout(.5)(x)\n",
    "x = Dense(128, activation='relu', use_bias=False)(x)\n",
    "x = Dropout(.5)(x)\n",
    "predictions = Dense(1, activation = 'sigmoid')(x)\n",
    "\n",
    "model = Model(inputs = base_model.input, outputs = predictions)\n",
    "model.compile(loss=\"binary_crossentropy\",\n",
    "              optimizer=\"rmsprop\",\n",
    "              metrics=[\"binary_accuracy\"])"
   ]
  },
  {
   "cell_type": "code",
   "execution_count": 7,
   "metadata": {
    "_uuid": "68b9765d692c60408829a340a4c6f384b641feb4",
    "scrolled": false
   },
   "outputs": [
    {
     "name": "stdout",
     "output_type": "stream",
     "text": [
      "Epoch 1/20\n",
      "512/512 [==============================] - 396s 773ms/step - loss: 0.4875 - binary_accuracy: 0.7819 - val_loss: 6.5008 - val_binary_accuracy: 0.5967\n",
      "Epoch 2/20\n",
      "512/512 [==============================] - 385s 751ms/step - loss: 0.4190 - binary_accuracy: 0.8207 - val_loss: 9.4259 - val_binary_accuracy: 0.4088\n",
      "Epoch 3/20\n",
      "512/512 [==============================] - 369s 721ms/step - loss: 0.3927 - binary_accuracy: 0.8313 - val_loss: 1.5026 - val_binary_accuracy: 0.4969\n",
      "Epoch 4/20\n",
      "512/512 [==============================] - 337s 659ms/step - loss: 0.3971 - binary_accuracy: 0.8320 - val_loss: 8.4259 - val_binary_accuracy: 0.4009\n",
      "Epoch 5/20\n",
      "512/512 [==============================] - 339s 661ms/step - loss: 0.3485 - binary_accuracy: 0.8526 - val_loss: 2.2176 - val_binary_accuracy: 0.6018\n",
      "Epoch 6/20\n",
      "512/512 [==============================] - 337s 658ms/step - loss: 0.3175 - binary_accuracy: 0.8705 - val_loss: 0.4103 - val_binary_accuracy: 0.8109\n",
      "Epoch 7/20\n",
      "512/512 [==============================] - 339s 662ms/step - loss: 0.3103 - binary_accuracy: 0.8740 - val_loss: 0.8233 - val_binary_accuracy: 0.6703\n",
      "Epoch 8/20\n",
      "512/512 [==============================] - 339s 661ms/step - loss: 0.2813 - binary_accuracy: 0.8881 - val_loss: 0.2514 - val_binary_accuracy: 0.8982\n",
      "Epoch 9/20\n",
      "512/512 [==============================] - 338s 661ms/step - loss: 0.2564 - binary_accuracy: 0.8991 - val_loss: 0.5632 - val_binary_accuracy: 0.7813\n",
      "Epoch 10/20\n",
      "512/512 [==============================] - 337s 658ms/step - loss: 0.2429 - binary_accuracy: 0.9057 - val_loss: 0.3143 - val_binary_accuracy: 0.8703\n",
      "Epoch 11/20\n",
      "512/512 [==============================] - 336s 656ms/step - loss: 0.2339 - binary_accuracy: 0.9094 - val_loss: 0.6888 - val_binary_accuracy: 0.6707\n",
      "Epoch 12/20\n",
      "512/512 [==============================] - 334s 652ms/step - loss: 0.2212 - binary_accuracy: 0.9164 - val_loss: 0.2033 - val_binary_accuracy: 0.9246\n",
      "Epoch 13/20\n",
      "512/512 [==============================] - 337s 659ms/step - loss: 0.2206 - binary_accuracy: 0.9157 - val_loss: 0.6580 - val_binary_accuracy: 0.6824\n",
      "Epoch 14/20\n",
      "512/512 [==============================] - 337s 658ms/step - loss: 0.2151 - binary_accuracy: 0.9191 - val_loss: 0.9300 - val_binary_accuracy: 0.6147\n",
      "Epoch 15/20\n",
      "512/512 [==============================] - 335s 655ms/step - loss: 0.2070 - binary_accuracy: 0.9211 - val_loss: 0.3267 - val_binary_accuracy: 0.8619\n",
      "Epoch 16/20\n",
      "512/512 [==============================] - 334s 653ms/step - loss: 0.2056 - binary_accuracy: 0.9225 - val_loss: 0.7468 - val_binary_accuracy: 0.6624\n",
      "Epoch 17/20\n",
      "512/512 [==============================] - 334s 653ms/step - loss: 0.2005 - binary_accuracy: 0.9251 - val_loss: 0.5012 - val_binary_accuracy: 0.7736\n",
      "Epoch 18/20\n",
      "512/512 [==============================] - 333s 651ms/step - loss: 0.2000 - binary_accuracy: 0.9259 - val_loss: 0.4488 - val_binary_accuracy: 0.8098\n",
      "Epoch 19/20\n",
      "512/512 [==============================] - 334s 652ms/step - loss: 0.1976 - binary_accuracy: 0.9264 - val_loss: 0.3145 - val_binary_accuracy: 0.8600\n",
      "Epoch 20/20\n",
      "512/512 [==============================] - 333s 650ms/step - loss: 0.1915 - binary_accuracy: 0.9279 - val_loss: 0.2507 - val_binary_accuracy: 0.9072\n"
     ]
    }
   ],
   "source": [
    "from keras.callbacks import EarlyStopping, ModelCheckpoint\n",
    "earlyStopping = EarlyStopping(monitor='val_loss', patience=10, verbose=0, mode='min')\n",
    "mcp_save = ModelCheckpoint('.mdl_wts.hdf5', save_best_only=True, monitor='val_loss', mode='min')\n",
    "\n",
    "history  = model.fit_generator(generator=train_generator, \n",
    "                                         epochs=20, \n",
    "                                         steps_per_epoch=512, \n",
    "                                         validation_data=test_generator, \n",
    "                                         validation_steps=128,\n",
    "                                        callbacks = [earlyStopping,mcp_save])"
   ]
  },
  {
   "cell_type": "code",
   "execution_count": 8,
   "metadata": {
    "_uuid": "a18bab68b9843377169be8b1ef7f515cb3f840a8"
   },
   "outputs": [
    {
     "name": "stdout",
     "output_type": "stream",
     "text": [
      "_________________________________________________________________\n",
      "Layer (type)                 Output Shape              Param #   \n",
      "=================================================================\n",
      "input_1 (InputLayer)         (None, 96, 96, 3)         0         \n",
      "_________________________________________________________________\n",
      "block1_conv1 (Conv2D)        (None, 96, 96, 64)        1792      \n",
      "_________________________________________________________________\n",
      "block1_conv2 (Conv2D)        (None, 96, 96, 64)        36928     \n",
      "_________________________________________________________________\n",
      "block1_pool (MaxPooling2D)   (None, 48, 48, 64)        0         \n",
      "_________________________________________________________________\n",
      "block2_conv1 (Conv2D)        (None, 48, 48, 128)       73856     \n",
      "_________________________________________________________________\n",
      "block2_conv2 (Conv2D)        (None, 48, 48, 128)       147584    \n",
      "_________________________________________________________________\n",
      "block2_pool (MaxPooling2D)   (None, 24, 24, 128)       0         \n",
      "_________________________________________________________________\n",
      "block3_conv1 (Conv2D)        (None, 24, 24, 256)       295168    \n",
      "_________________________________________________________________\n",
      "block3_conv2 (Conv2D)        (None, 24, 24, 256)       590080    \n",
      "_________________________________________________________________\n",
      "block3_conv3 (Conv2D)        (None, 24, 24, 256)       590080    \n",
      "_________________________________________________________________\n",
      "block3_conv4 (Conv2D)        (None, 24, 24, 256)       590080    \n",
      "_________________________________________________________________\n",
      "block3_pool (MaxPooling2D)   (None, 12, 12, 256)       0         \n",
      "_________________________________________________________________\n",
      "block4_conv1 (Conv2D)        (None, 12, 12, 512)       1180160   \n",
      "_________________________________________________________________\n",
      "block4_conv2 (Conv2D)        (None, 12, 12, 512)       2359808   \n",
      "_________________________________________________________________\n",
      "block4_conv3 (Conv2D)        (None, 12, 12, 512)       2359808   \n",
      "_________________________________________________________________\n",
      "block4_conv4 (Conv2D)        (None, 12, 12, 512)       2359808   \n",
      "_________________________________________________________________\n",
      "block4_pool (MaxPooling2D)   (None, 6, 6, 512)         0         \n",
      "_________________________________________________________________\n",
      "block5_conv1 (Conv2D)        (None, 6, 6, 512)         2359808   \n",
      "_________________________________________________________________\n",
      "block5_conv2 (Conv2D)        (None, 6, 6, 512)         2359808   \n",
      "_________________________________________________________________\n",
      "block5_conv3 (Conv2D)        (None, 6, 6, 512)         2359808   \n",
      "_________________________________________________________________\n",
      "block5_conv4 (Conv2D)        (None, 6, 6, 512)         2359808   \n",
      "_________________________________________________________________\n",
      "block5_pool (MaxPooling2D)   (None, 3, 3, 512)         0         \n",
      "_________________________________________________________________\n",
      "flatten_1 (Flatten)          (None, 4608)              0         \n",
      "_________________________________________________________________\n",
      "dense_1 (Dense)              (None, 256)               1179648   \n",
      "_________________________________________________________________\n",
      "batch_normalization_1 (Batch (None, 256)               1024      \n",
      "_________________________________________________________________\n",
      "dropout_1 (Dropout)          (None, 256)               0         \n",
      "_________________________________________________________________\n",
      "dense_2 (Dense)              (None, 128)               32768     \n",
      "_________________________________________________________________\n",
      "dropout_2 (Dropout)          (None, 128)               0         \n",
      "_________________________________________________________________\n",
      "dense_3 (Dense)              (None, 1)                 129       \n",
      "=================================================================\n",
      "Total params: 21,237,953\n",
      "Trainable params: 21,237,441\n",
      "Non-trainable params: 512\n",
      "_________________________________________________________________\n"
     ]
    }
   ],
   "source": [
    "model.summary()"
   ]
  },
  {
   "cell_type": "code",
   "execution_count": 9,
   "metadata": {
    "_uuid": "0fbbb1b0d6eff0d04a8c37ea097d290fc7995d29"
   },
   "outputs": [
    {
     "data": {
      "image/png": "[encoded data removed]",
      "text/plain": [
       "<Figure size 1008x504 with 2 Axes>"
      ]
     },
     "metadata": {},
     "output_type": "display_data"
    }
   ],
   "source": [
    "import matplotlib.pyplot as plt\n",
    "\n",
    "def plot_history(history):\n",
    "    acc = history.history[\"binary_accuracy\"]\n",
    "    val_acc = history.history[\"val_binary_accuracy\"]\n",
    "    loss = history.history[\"loss\"]\n",
    "    val_loss = history.history[\"val_loss\"]\n",
    "    x = range(1, len(acc) + 1)\n",
    "    \n",
    "    plt.figure(figsize=(14, 7))\n",
    "    plt.subplot(1, 2, 1)\n",
    "    plt.plot(x, acc, \"b\", label=\"Training acc\")\n",
    "    plt.plot(x, val_acc, \"r\", label=\"Validation acc\")\n",
    "    plt.xticks(x, x)\n",
    "    plt.title(\"Training and validation accuracy\")\n",
    "    plt.legend()\n",
    "    \n",
    "    plt.subplot(1, 2, 2)\n",
    "    plt.plot(x, loss, \"b\", label=\"Training loss\")\n",
    "    plt.plot(x, val_loss, \"r\", label=\"Validation loss\")\n",
    "    plt.xticks(x, x)\n",
    "    plt.title(\"Training and validation loss\")\n",
    "    plt.legend()\n",
    "    \n",
    "plot_history(history=history)"
   ]
  },
  {
   "cell_type": "code",
   "execution_count": 13,
   "metadata": {
    "_uuid": "36155c121503d52e2a4fb62f4b911dafc125b33e"
   },
   "outputs": [
    {
     "name": "stdout",
     "output_type": "stream",
     "text": [
      "Loss Value: 0.2581\n",
      "Model Test Accuracy: 0.9056\n"
     ]
    }
   ],
   "source": [
    "model_two_eval = model.evaluate_generator(generator = test_generator, \n",
    "                                              steps = np.ceil(len(test_generator.filenames) / batch_size))\n",
    "\n",
    "print(\"Loss Value:\", model_two_eval[0].round(4))\n",
    "print(\"Model Test Accuracy:\", model_two_eval[1].round(4))"
   ]
  },
  {
   "cell_type": "code",
   "execution_count": 14,
   "metadata": {
    "_uuid": "54c726a6192198eb3b1a108980ffefa6919e80b3"
   },
   "outputs": [
    {
     "name": "stdout",
     "output_type": "stream",
     "text": [
      "Found 44005 images belonging to 2 classes.\n",
      "Model AUC: 0.966\n"
     ]
    }
   ],
   "source": [
    "val_datagen = ImageDataGenerator(rescale=1./255)\n",
    "\n",
    "val_generator = val_datagen.flow_from_dataframe(\n",
    "    dataframe=test, \n",
    "    directory='../input/histopathologic-cancer-detection/train/', \n",
    "    x_col='id', \n",
    "    y_col='label',\n",
    "    target_size=image_size,\n",
    "    batch_size=batch_size,\n",
    "    class_mode=\"binary\",\n",
    "    has_ext=False,\n",
    "    shuffle=False\n",
    ")\n",
    "\n",
    "model_two_probs = model.predict_generator(generator = val_generator, \n",
    "                                              steps = np.ceil(len(val_generator.filenames) / batch_size))\n",
    "\n",
    "fpr_keras, tpr_keras, thresholds_keras = roc_curve(val_generator.classes, model_two_probs)\n",
    "\n",
    "print(\"Model AUC:\", auc(fpr_keras, tpr_keras).round(4))"
   ]
  }
 ],
 "metadata": {
  "kernelspec": {
   "display_name": "Python 3",
   "language": "python",
   "name": "python3"
  },
  "language_info": {
   "codemirror_mode": {
    "name": "ipython",
    "version": 3
   },
   "file_extension": ".py",
   "mimetype": "text/x-python",
   "name": "python",
   "nbconvert_exporter": "python",
   "pygments_lexer": "ipython3",
   "version": "3.7.1"
  }
 },
 "nbformat": 4,
 "nbformat_minor": 1
}
