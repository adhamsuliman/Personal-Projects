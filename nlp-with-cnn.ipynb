{
 "cells": [
  {
   "cell_type": "markdown",
   "metadata": {},
   "source": [
    "**Introduction**\n",
    "\n",
    "The concept of Long Short Term Memory networks were first envisioned by Sepp Hochreiter and Jürgen Schmidhuber in 1997 which provided a huge advancement within the world of Reccurent Neural Networks. LSTMs utilize gates which learn to pass on certain parts of a given input to be utilized when determining an output. \n",
    "\n",
    "\n",
    "Quora is a website which hosts an online platform where questions can be asked and then be asnwered by the online community. The the community intends to answer questions posed by curious individuals from topics ranging from relgion to technology. A majority of the answers provided are well intedned, but infrequently, insencere responses are posted which provide no value to the question asked. If Quora is capable of identifying these types of responses, it can make sure it's community is a benefical environment for all users. The following analysis intends to identify inscencere questions that have been posted within the Quora Community by utilizing Convolutional Networks in tangent with LSTMs. \n",
    "\n",
    "\n",
    "Below, we import the required modules for the analysis."
   ]
  },
  {
   "cell_type": "code",
   "execution_count": 1,
   "metadata": {
    "_cell_guid": "b1076dfc-b9ad-4769-8c92-a6c4dae69d19",
    "_uuid": "8f2839f25d086af736a60e9eeb907d3b93b6e0e5"
   },
   "outputs": [
    {
     "name": "stderr",
     "output_type": "stream",
     "text": [
      "Using TensorFlow backend.\n"
     ]
    }
   ],
   "source": [
    "import os\n",
    "import time\n",
    "import numpy as np # linear algebra\n",
    "import pandas as pd # data processing, CSV file I/O (e.g. pd.read_csv)\n",
    "from tqdm import tqdm\n",
    "import math\n",
    "\n",
    "from sklearn.metrics import roc_curve, auc,  f1_score\n",
    "from sklearn.model_selection import train_test_split\n",
    "\n",
    "import matplotlib.pyplot as plt\n",
    "import keras\n",
    "from sklearn import metrics\n",
    "from keras.layers import Input, Embedding, Dense, Conv2D, MaxPool2D, Reshape, Flatten, Concatenate, Dropout, SpatialDropout1D, BatchNormalization, LSTM, Embedding, Dropout, Activation, CuDNNGRU, Conv1D,CuDNNLSTM\n",
    "from keras.preprocessing.text import Tokenizer\n",
    "from keras.preprocessing.sequence import pad_sequences\n",
    "from keras.layers import Bidirectional, GlobalMaxPool1D, TimeDistributed\n",
    "from keras.models import Model\n",
    "from keras import initializers, regularizers, constraints, optimizers, layers"
   ]
  },
  {
   "cell_type": "markdown",
   "metadata": {},
   "source": [
    "**Preproccessing**\n",
    "\n",
    "The train data set consists of 1.31 million records for the training data where the commentary is preclassified as toxic or non toxic. The test data set consists of 376 thousand records.\n",
    "\n",
    "In order for computers to be able to process english text, they must convert the sentences to vectors. We will first tokenize the sentences where each word is given a value. Each sentence must be the same length before entering the neural network which is why we utilize the pad_sequences function. \n",
    "\n",
    "We will now read in the data and split it into train and test, tokenize the comments, and pad the comments for preprocessing."
   ]
  },
  {
   "cell_type": "code",
   "execution_count": 2,
   "metadata": {
    "_cell_guid": "79c7e3d0-c299-4dcb-8224-4455121ee9b0",
    "_uuid": "d629ff2d2480ee46fbb7e2d37f6b5fab8052498a"
   },
   "outputs": [],
   "source": [
    "#filename = '../input/googles-trained-word2vec-model-in-python/GoogleNews-vectors-negative300.bin.gz'\n",
    "#model = KeyedVectors.load_word2vec_format(filename, binary=True)\n",
    "df = pd.read_csv('../input/quora-insincere-questions-classification/train.csv')\n",
    "\n",
    "train_df, test_df = train_test_split(df, test_size=0.2, random_state=2018)\n",
    "train_df, val_df = train_test_split(train_df, test_size=0.34, random_state=2018)\n",
    "\n",
    "## some config values \n",
    "embed_size = 300 # how big is each word vector\n",
    "max_features = 50000 # how many unique words to use (i.e num rows in embedding vector)\n",
    "maxlen = 100 # max number of words in a question to use\n",
    "\n",
    "## fill up the missing values\n",
    "train_X = train_df[\"question_text\"].fillna(\"_na_\").values\n",
    "val_X = val_df[\"question_text\"].fillna(\"_na_\").values\n",
    "test_X = test_df[\"question_text\"].fillna(\"_na_\").values\n",
    "\n",
    "## Tokenize the sentences\n",
    "tokenizer = Tokenizer(num_words=max_features)\n",
    "tokenizer.fit_on_texts(list(train_X))\n",
    "train_X = tokenizer.texts_to_sequences(train_X)\n",
    "val_X = tokenizer.texts_to_sequences(val_X)\n",
    "test_X = tokenizer.texts_to_sequences(test_X)\n",
    "\n",
    "## Pad the sentences \n",
    "train_X = pad_sequences(train_X, maxlen=maxlen)\n",
    "val_X = pad_sequences(val_X, maxlen=maxlen)\n",
    "test_X = pad_sequences(test_X, maxlen=maxlen)\n",
    "\n",
    "## Get the target values\n",
    "train_y = train_df['target'].values\n",
    "val_y = val_df['target'].values\n",
    "test_y = test_df['target'].values"
   ]
  },
  {
   "cell_type": "markdown",
   "metadata": {},
   "source": [
    "**Embedding**\n",
    "\n",
    "It takes years for humans to comprehend the intriciacies of a language such as grammer, future and past tenses, and parts of speech. Though we could input our data into the Neural Netowrk immdeitaly, we can utilize anexternal dictionary which seek to expalin what each word utilized with our data set means. \n",
    "\n",
    "A glove embedding is an unsupervised algorithm which aims to produce vectors that represent all words within a given corpra. A glove is initiated by creating a matrix sized by the (unique number of words) x (unique number of words). The values within the matrix are indicative of how often a word is associated with another word. The matrix is then factorized to yield lower dimesnionality to produce a matrix (words) x (# of desired features). Though these features don't have a specific meaning, the more features produced, the more differentiation can be created between words. \n",
    "\n",
    "The glove embedding utilized within this analysis was created by Standford by training on the corpra of Wikipedia2014 which contains 400k unique words within it's corpra. A function is created below to find the embeedings within the quora corpra data set utlizing standford's glove embeddings. "
   ]
  },
  {
   "cell_type": "code",
   "execution_count": 3,
   "metadata": {
    "_uuid": "19fbaa59bf067e2f00e684e4505a8c9c27942bff"
   },
   "outputs": [
    {
     "name": "stderr",
     "output_type": "stream",
     "text": [
      "/opt/conda/lib/python3.6/site-packages/ipykernel_launcher.py:5: FutureWarning: arrays to stack must be passed as a \"sequence\" type such as list or tuple. Support for non-sequence iterables such as generators is deprecated as of NumPy 1.16 and will raise an error in the future.\n",
      "  \"\"\"\n"
     ]
    }
   ],
   "source": [
    "EMBEDDING_FILE = '../input/glove840b300dtxt/glove.840B.300d.txt'\n",
    "def get_coefs(word,*arr): return word, np.asarray(arr, dtype='float32')\n",
    "embeddings_index = dict(get_coefs(*o.split(\" \")) for o in open(EMBEDDING_FILE))\n",
    "\n",
    "all_embs = np.stack(embeddings_index.values())\n",
    "emb_mean,emb_std = all_embs.mean(), all_embs.std()\n",
    "embed_size = all_embs.shape[1]\n",
    "\n",
    "word_index = tokenizer.word_index\n",
    "nb_words = min(max_features, len(word_index))\n",
    "embedding_matrix = np.random.normal(emb_mean, emb_std, (nb_words, embed_size))\n",
    "for word, i in word_index.items():\n",
    "    if i >= max_features: continue\n",
    "    embedding_vector = embeddings_index.get(word)\n",
    "    if embedding_vector is not None: embedding_matrix[i] = embedding_vector"
   ]
  },
  {
   "cell_type": "markdown",
   "metadata": {},
   "source": [
    "We will now constrct the Neural Networks which utilizes both Convolutional Neural Networks and Recurrent Neural Networks in Keras. \n",
    "\n",
    "1. The comments within the train data set must first be translated into numerical embeddings utilizing Stanford's glove embedding.\n",
    "\n",
    "2. A 2 dimensional CNN is then used across the comments with the filter sizes set at the top.\n",
    "    \n",
    "    A. The first dimension looks at the number of words to utilize when learning to determine the classification of our output.\n",
    "        \n",
    "        a. The first filter size of 1 looks strictly at the word to determine the output.\n",
    "        \n",
    "        b. The next 4 filters look at the word and the words following it to determine the output. The   \n",
    "        filter allows the Conv2D to look at the next word, 2 words, 3 words, and 4 words respectively to \n",
    "        determine the classification of the given data.  \n",
    "        \n",
    "    B. The second dimension looks at the word embeddings of each of the words within our filter, which again consist of 300 vectors.\n",
    "    \n",
    "3. A Bidirectional LSTM is then utilized to determine the output.\n",
    "\n",
    "    A.The Bidirectional layer creates two LSTMs where one LSTM reads a comment from left to right and the other utilizes the other LSTM to read the comment from right to left. These LSTMs are used in tandem to determine the classification of the comment. \n",
    "    \n",
    "4. A simple layer of 100 neurons are then used before a final dense layer which will produce the perdicted classification of the comment.\n"
   ]
  },
  {
   "cell_type": "code",
   "execution_count": 4,
   "metadata": {
    "_uuid": "2e0b59c6df9326cdd2a4c482b7fb778fc0a1a153"
   },
   "outputs": [
    {
     "name": "stdout",
     "output_type": "stream",
     "text": [
      "WARNING:tensorflow:From /opt/conda/lib/python3.6/site-packages/tensorflow/python/framework/op_def_library.py:263: colocate_with (from tensorflow.python.framework.ops) is deprecated and will be removed in a future version.\n",
      "Instructions for updating:\n",
      "Colocations handled automatically by placer.\n",
      "WARNING:tensorflow:From /opt/conda/lib/python3.6/site-packages/keras/backend/tensorflow_backend.py:3445: calling dropout (from tensorflow.python.ops.nn_ops) with keep_prob is deprecated and will be removed in a future version.\n",
      "Instructions for updating:\n",
      "Please use `rate` instead of `keep_prob`. Rate should be set to `rate = 1 - keep_prob`.\n",
      "__________________________________________________________________________________________________\n",
      "Layer (type)                    Output Shape         Param #     Connected to                     \n",
      "==================================================================================================\n",
      "input_1 (InputLayer)            (None, 100)          0                                            \n",
      "__________________________________________________________________________________________________\n",
      "embedding_1 (Embedding)         (None, 100, 300)     15000000    input_1[0][0]                    \n",
      "__________________________________________________________________________________________________\n",
      "reshape_1 (Reshape)             (None, 100, 300, 1)  0           embedding_1[0][0]                \n",
      "__________________________________________________________________________________________________\n",
      "conv2d_1 (Conv2D)               (None, 100, 1, 128)  38528       reshape_1[0][0]                  \n",
      "__________________________________________________________________________________________________\n",
      "conv2d_2 (Conv2D)               (None, 99, 1, 128)   76928       reshape_1[0][0]                  \n",
      "__________________________________________________________________________________________________\n",
      "conv2d_3 (Conv2D)               (None, 98, 1, 128)   115328      reshape_1[0][0]                  \n",
      "__________________________________________________________________________________________________\n",
      "conv2d_4 (Conv2D)               (None, 96, 1, 128)   192128      reshape_1[0][0]                  \n",
      "__________________________________________________________________________________________________\n",
      "max_pooling2d_1 (MaxPooling2D)  (None, 1, 1, 128)    0           conv2d_1[0][0]                   \n",
      "__________________________________________________________________________________________________\n",
      "max_pooling2d_2 (MaxPooling2D)  (None, 1, 1, 128)    0           conv2d_2[0][0]                   \n",
      "__________________________________________________________________________________________________\n",
      "max_pooling2d_3 (MaxPooling2D)  (None, 1, 1, 128)    0           conv2d_3[0][0]                   \n",
      "__________________________________________________________________________________________________\n",
      "max_pooling2d_4 (MaxPooling2D)  (None, 1, 1, 128)    0           conv2d_4[0][0]                   \n",
      "__________________________________________________________________________________________________\n",
      "concatenate_1 (Concatenate)     (None, 4, 1, 128)    0           max_pooling2d_1[0][0]            \n",
      "                                                                 max_pooling2d_2[0][0]            \n",
      "                                                                 max_pooling2d_3[0][0]            \n",
      "                                                                 max_pooling2d_4[0][0]            \n",
      "__________________________________________________________________________________________________\n",
      "time_distributed_1 (TimeDistrib (None, 4, 512)       790528      concatenate_1[0][0]              \n",
      "__________________________________________________________________________________________________\n",
      "batch_normalization_1 (BatchNor (None, 4, 512)       2048        time_distributed_1[0][0]         \n",
      "__________________________________________________________________________________________________\n",
      "flatten_1 (Flatten)             (None, 2048)         0           batch_normalization_1[0][0]      \n",
      "__________________________________________________________________________________________________\n",
      "dense_1 (Dense)                 (None, 100)          204900      flatten_1[0][0]                  \n",
      "__________________________________________________________________________________________________\n",
      "dropout_1 (Dropout)             (None, 100)          0           dense_1[0][0]                    \n",
      "__________________________________________________________________________________________________\n",
      "dense_2 (Dense)                 (None, 100)          10100       dropout_1[0][0]                  \n",
      "__________________________________________________________________________________________________\n",
      "dropout_2 (Dropout)             (None, 100)          0           dense_2[0][0]                    \n",
      "__________________________________________________________________________________________________\n",
      "dense_3 (Dense)                 (None, 10)           1010        dropout_2[0][0]                  \n",
      "__________________________________________________________________________________________________\n",
      "dense_4 (Dense)                 (None, 1)            11          dense_3[0][0]                    \n",
      "==================================================================================================\n",
      "Total params: 16,431,509\n",
      "Trainable params: 16,430,485\n",
      "Non-trainable params: 1,024\n",
      "__________________________________________________________________________________________________\n"
     ]
    }
   ],
   "source": [
    "filter_sizes = [1,2,3,5]\n",
    "num_filters = 128\n",
    "\n",
    "inp = Input(shape=(maxlen,))\n",
    "x = Embedding(max_features, embed_size, weights=[embedding_matrix])(inp)\n",
    "x = Reshape((maxlen, embed_size, 1))(x)\n",
    "\n",
    "maxpool_pool = []\n",
    "for i in range(len(filter_sizes)):\n",
    "    conv = Conv2D(num_filters, kernel_size=(filter_sizes[i], embed_size),\n",
    "                                 kernel_initializer='glorot_uniform', activation='relu')(x) \n",
    "    maxpool_pool.append(MaxPool2D(pool_size=(maxlen - filter_sizes[i] + 1, 1))(conv))\n",
    "\n",
    "z = Concatenate(axis=1)(maxpool_pool) \n",
    "z = TimeDistributed(Bidirectional(CuDNNLSTM(256)))(z)\n",
    "z = BatchNormalization()(z)\n",
    "z = Flatten()(z)\n",
    "z = Dense(100, activation=\"relu\")(z)\n",
    "z = Dropout(.5)(z)\n",
    "z = Dense(100, activation=\"relu\")(z)\n",
    "z = Dropout(.5)(z)\n",
    "z = Dense(10, activation=\"relu\")(z)\n",
    "\n",
    "outp = Dense(1, activation=\"sigmoid\")(z)\n",
    "\n",
    "model = Model(inputs=inp, outputs=outp)\n",
    "model.compile(loss='binary_crossentropy', optimizer='adam', metrics=['accuracy'])\n",
    "model.summary()\n"
   ]
  },
  {
   "cell_type": "markdown",
   "metadata": {},
   "source": [
    "We will fit the model below."
   ]
  },
  {
   "cell_type": "code",
   "execution_count": 5,
   "metadata": {
    "_uuid": "536115ac569f2f36bd49580552a2def1256434cf",
    "scrolled": false
   },
   "outputs": [
    {
     "name": "stdout",
     "output_type": "stream",
     "text": [
      "WARNING:tensorflow:From /opt/conda/lib/python3.6/site-packages/tensorflow/python/ops/math_ops.py:3066: to_int32 (from tensorflow.python.ops.math_ops) is deprecated and will be removed in a future version.\n",
      "Instructions for updating:\n",
      "Use tf.cast instead.\n",
      "Train on 689632 samples, validate on 355265 samples\n",
      "Epoch 1/3\n",
      "689632/689632 [==============================] - 103s 150us/step - loss: 0.1220 - acc: 0.9519 - val_loss: 0.1567 - val_acc: 0.9574\n",
      "Epoch 2/3\n",
      "689632/689632 [==============================] - 97s 140us/step - loss: 0.0976 - acc: 0.9612 - val_loss: 0.1128 - val_acc: 0.9583\n",
      "Epoch 3/3\n",
      "689632/689632 [==============================] - 97s 141us/step - loss: 0.0821 - acc: 0.9667 - val_loss: 0.1111 - val_acc: 0.9581\n"
     ]
    }
   ],
   "source": [
    "#from keras.callbacks import EarlyStopping, ModelCheckpoint\n",
    "#earlyStopping = EarlyStopping(monitor='val_loss', patience=10, verbose=0, mode='min')\n",
    "#mcp_save = ModelCheckpoint('.mdl_wts.hdf5', save_best_only=True, monitor='val_loss', mode='min')\n",
    "\n",
    "history = model.fit(train_X, train_y, batch_size=512, epochs=3, validation_data=(val_X, val_y))"
   ]
  },
  {
   "cell_type": "markdown",
   "metadata": {},
   "source": [
    "The two visualizations below look at our train and validation acurracy and the binary crossentropy loss of the binary model. It is clear that the model begins to overfit our training data after the first epoch, so we'll rerun our fit with only 1 epoch.  "
   ]
  },
  {
   "cell_type": "code",
   "execution_count": 6,
   "metadata": {},
   "outputs": [
    {
     "data": {
      "image/png": "[encoded data removed]",
      "text/plain": [
       "<Figure size 864x360 with 2 Axes>"
      ]
     },
     "metadata": {},
     "output_type": "display_data"
    }
   ],
   "source": [
    "import matplotlib.pyplot as plt\n",
    "plt.style.use(\"ggplot\")\n",
    "\n",
    "def plot_history(history):\n",
    "    acc = history.history[\"acc\"]\n",
    "    val_acc = history.history[\"val_acc\"]\n",
    "    loss = history.history[\"loss\"]\n",
    "    val_loss = history.history[\"val_loss\"]\n",
    "    x = range(1, len(acc) + 1)\n",
    "\n",
    "    plt.figure(figsize=(12, 5))\n",
    "    plt.subplot(1, 2, 1)\n",
    "    plt.plot(x, acc, \"b\", label=\"Training acc\")\n",
    "    plt.plot(x, val_acc, \"r\", label=\"Validation acc\")\n",
    "    plt.title(\"Training and validation accuracy\")\n",
    "    plt.legend()\n",
    "    plt.subplot(1, 2, 2)\n",
    "    plt.plot(x, loss, \"b\", label=\"Training loss\")\n",
    "    plt.plot(x, val_loss, \"r\", label=\"Validation loss\")\n",
    "    plt.title(\"Training and validation loss\")\n",
    "    plt.legend()\n",
    "    \n",
    "plot_history(history=history)"
   ]
  },
  {
   "cell_type": "code",
   "execution_count": 7,
   "metadata": {},
   "outputs": [
    {
     "name": "stdout",
     "output_type": "stream",
     "text": [
      "Train on 689632 samples, validate on 355265 samples\n",
      "Epoch 1/1\n",
      "689632/689632 [==============================] - 97s 140us/step - loss: 0.0649 - acc: 0.9734 - val_loss: 0.1204 - val_acc: 0.9551\n"
     ]
    }
   ],
   "source": [
    "history = model.fit(train_X, train_y, batch_size=512, epochs=1, validation_data=(val_X, val_y))"
   ]
  },
  {
   "cell_type": "code",
   "execution_count": 8,
   "metadata": {
    "_uuid": "b079c1c62f3da23cf8b62b64f1b8246da4706cf7"
   },
   "outputs": [],
   "source": [
    "y_pred = model.predict(test_X)"
   ]
  },
  {
   "cell_type": "code",
   "execution_count": 9,
   "metadata": {
    "_uuid": "23758b1f999559c34b179bdef855d889f527c25c"
   },
   "outputs": [
    {
     "name": "stdout",
     "output_type": "stream",
     "text": [
      "Area under the ROC curve : 0.952337\n"
     ]
    }
   ],
   "source": [
    "fpr, tpr, thresholds =roc_curve(test_y, y_pred)\n",
    "roc_auc = auc(fpr, tpr)\n",
    "print(\"Area under the ROC curve : %f\" % roc_auc)"
   ]
  },
  {
   "cell_type": "markdown",
   "metadata": {},
   "source": [
    "With our final layer utlizing a sigmoid as it's activation function, the neural network will produce a value between 0 and 1. We can take a standard cutoff point of .5 which produces an f1 score below of .654 which would put this f1 score at the top 20th percentile of all submissions for this Kaggle competition.  "
   ]
  },
  {
   "cell_type": "code",
   "execution_count": 10,
   "metadata": {},
   "outputs": [
    {
     "name": "stdout",
     "output_type": "stream",
     "text": [
      "F1 score is equivalent to 0.6453470930581389\n"
     ]
    }
   ],
   "source": [
    "y_pred1 = np.where(y_pred > .5, 1, 0)\n",
    "print(\"F1 score is equivalent to {}\".format(f1_score(test_y,y_pred1)))"
   ]
  },
  {
   "cell_type": "code",
   "execution_count": 11,
   "metadata": {},
   "outputs": [
    {
     "name": "stdout",
     "output_type": "stream",
     "text": [
      "              precision    recall  f1-score   support\n",
      "\n",
      "           0       0.98      0.97      0.98    245029\n",
      "           1       0.63      0.66      0.65     16196\n",
      "\n",
      "   micro avg       0.95      0.95      0.95    261225\n",
      "   macro avg       0.80      0.82      0.81    261225\n",
      "weighted avg       0.96      0.95      0.96    261225\n",
      "\n"
     ]
    }
   ],
   "source": [
    "from sklearn.metrics import classification_report\n",
    "print(classification_report(test_y,y_pred1))"
   ]
  },
  {
   "cell_type": "markdown",
   "metadata": {},
   "source": [
    "The model does quite a good job at corecctly classifiyin non-toxic comments with a precision of .98 and a recall of .97. What the model doesn't excel in is in classifying the toxic comments with a precision of .63 and a recall of .68. The business value for this model is to allow someone to manual check the predicted toxic comments and decide where they need to be removed from the forum. With a recall of .68, the model will only capture 68% of the truly toxic comments. We can increase this percentage by lowering the cutoff point for the model when considering if a comment is toxic.\n",
    "\n",
    "We will lower the cutoff to .3. This will lower precision to .4 and recall will rise to .9. This means that out of all the comments the model predicted as toxic, 90% of the true toxic comments population will be captured. The cost for this is that only 40% of the comments our model predicted to be toxic will truly be toxic. A user will then have to manually identify the truly toxic comments from the predicted toxic comments because 60% of the predicted toxic comments are not toxic."
   ]
  },
  {
   "cell_type": "code",
   "execution_count": 12,
   "metadata": {
    "_uuid": "f560ee446063d2b27f3d8cbfeb04dd81fb3ce978"
   },
   "outputs": [
    {
     "name": "stdout",
     "output_type": "stream",
     "text": [
      "              precision    recall  f1-score   support\n",
      "\n",
      "           0       0.99      0.95      0.97    245029\n",
      "           1       0.49      0.81      0.62     16196\n",
      "\n",
      "   micro avg       0.94      0.94      0.94    261225\n",
      "   macro avg       0.74      0.88      0.79    261225\n",
      "weighted avg       0.96      0.94      0.94    261225\n",
      "\n"
     ]
    }
   ],
   "source": [
    "y_pred1 = np.where(y_pred > .3, 1, 0)\n",
    "from sklearn.metrics import classification_report\n",
    "print(classification_report(test_y,y_pred1))"
   ]
  },
  {
   "cell_type": "code",
   "execution_count": 13,
   "metadata": {
    "_uuid": "5c3faf2c3250e5f079ac692029a54cb6fcd37eea"
   },
   "outputs": [
    {
     "data": {
      "image/png": "[encoded data removed]",
      "text/plain": [
       "<Figure size 432x288 with 1 Axes>"
      ]
     },
     "metadata": {},
     "output_type": "display_data"
    }
   ],
   "source": [
    "import matplotlib.pyplot as plt\n",
    "plt.title('Receiver Operating Characteristic')\n",
    "plt.plot(fpr, tpr, 'b', label = 'AUC = %0.2f' % roc_auc)\n",
    "plt.legend(loc = 'lower right')\n",
    "plt.plot([0, 1], [0, 1],'r--')\n",
    "plt.xlim([0, 1])\n",
    "plt.ylim([0, 1])\n",
    "plt.ylabel('True Positive Rate')\n",
    "plt.xlabel('False Positive Rate')\n",
    "plt.show()"
   ]
  }
 ],
 "metadata": {
  "kernelspec": {
   "display_name": "Python 3",
   "language": "python",
   "name": "python3"
  },
  "language_info": {
   "codemirror_mode": {
    "name": "ipython",
    "version": 3
   },
   "file_extension": ".py",
   "mimetype": "text/x-python",
   "name": "python",
   "nbconvert_exporter": "python",
   "pygments_lexer": "ipython3",
   "version": "3.6.6"
  }
 },
 "nbformat": 4,
 "nbformat_minor": 1
}
